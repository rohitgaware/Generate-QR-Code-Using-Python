{
  "nbformat": 4,
  "nbformat_minor": 0,
  "metadata": {
    "colab": {
      "provenance": []
    },
    "kernelspec": {
      "name": "python3",
      "display_name": "Python 3"
    },
    "language_info": {
      "name": "python"
    }
  },
  "cells": [
    {
      "cell_type": "code",
      "execution_count": 1,
      "metadata": {
        "id": "wf4-zHW06ZX7",
        "colab": {
          "base_uri": "https://localhost:8080/"
        },
        "outputId": "00e293f3-69aa-4903-879a-c576354955b5"
      },
      "outputs": [
        {
          "output_type": "stream",
          "name": "stdout",
          "text": [
            "Looking in indexes: https://pypi.org/simple, https://us-python.pkg.dev/colab-wheels/public/simple/\n",
            "Collecting qrcode\n",
            "  Downloading qrcode-7.4.2-py3-none-any.whl (46 kB)\n",
            "\u001b[2K     \u001b[90m━━━━━━━━━━━━━━━━━━━━━━━━━━━━━━━━━━━━━━━━\u001b[0m \u001b[32m46.2/46.2 KB\u001b[0m \u001b[31m2.6 MB/s\u001b[0m eta \u001b[36m0:00:00\u001b[0m\n",
            "\u001b[?25hCollecting pypng\n",
            "  Downloading pypng-0.20220715.0-py3-none-any.whl (58 kB)\n",
            "\u001b[2K     \u001b[90m━━━━━━━━━━━━━━━━━━━━━━━━━━━━━━━━━━━━━━━━\u001b[0m \u001b[32m58.1/58.1 KB\u001b[0m \u001b[31m5.3 MB/s\u001b[0m eta \u001b[36m0:00:00\u001b[0m\n",
            "\u001b[?25hRequirement already satisfied: typing-extensions in /usr/local/lib/python3.9/dist-packages (from qrcode) (4.5.0)\n",
            "Installing collected packages: pypng, qrcode\n",
            "Successfully installed pypng-0.20220715.0 qrcode-7.4.2\n"
          ]
        }
      ],
      "source": [
        "! pip install qrcode"
      ]
    },
    {
      "cell_type": "code",
      "source": [
        "# importing the qrcode Module\n",
        "import qrcode\n",
        "# create a object\n",
        "qr=qrcode.QRCode(\n",
        "# specify the size and width of QR Code    \n",
        "    version=10,\n",
        "    box_size=7,\n",
        "    border=5\n",
        ")\n",
        "# create a data veriable\n",
        "data=\"https://www.google.com/maps\"\n",
        "qr.add_data(data)\n",
        "qr.make(fit=True)\n",
        "# specify the color of QR Code\n",
        "img=qr.make_image(fill=\"Black\",back_color=\"White\")\n",
        "# save the QR Code Image\n",
        "img.save('text.png')"
      ],
      "metadata": {
        "id": "wVTrw3M06nUC"
      },
      "execution_count": 2,
      "outputs": []
    }
  ]
}